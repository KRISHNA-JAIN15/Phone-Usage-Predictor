{
 "cells": [
  {
   "cell_type": "code",
   "execution_count": 1,
   "metadata": {},
   "outputs": [],
   "source": [
    "import pandas as pd\n",
    "import numpy as np"
   ]
  },
  {
   "cell_type": "code",
   "execution_count": 2,
   "metadata": {},
   "outputs": [],
   "source": [
    "df = pd.read_csv('cleaned_dataset.csv')"
   ]
  },
  {
   "cell_type": "code",
   "execution_count": 5,
   "metadata": {},
   "outputs": [
    {
     "name": "stdout",
     "output_type": "stream",
     "text": [
      "Column 'Age': 0 outliers\n",
      "Column 'Screen Time (hrs/day)': 0 outliers\n",
      "Column 'Data Usage (GB/month)': 0 outliers\n",
      "Column 'Number of Apps Installed': 0 outliers\n",
      "Column 'Social Media Time (hrs/day)': 0 outliers\n",
      "Column 'E-commerce Spend (INR/month)': 0 outliers\n",
      "Column 'Streaming Time (hrs/day)': 0 outliers\n",
      "Column 'Gaming Time (hrs/day)': 0 outliers\n",
      "Column 'Monthly Recharge Cost (INR)': 0 outliers\n",
      "Column 'Total Time (hrs/day)': 8 outliers\n",
      "Column 'Calls Duration (hrs/day)': 0 outliers\n"
     ]
    }
   ],
   "source": [
    "integer_columns = df.select_dtypes(include=['int' , 'float']).columns\n",
    "\n",
    "\n",
    "def count_outliers(df, col):\n",
    "    mean = df[col].mean()\n",
    "    std = df[col].std()\n",
    "    lower_bound = mean - 3 * std\n",
    "    upper_bound = mean + 3 * std\n",
    "    outliers = df[(df[col] < lower_bound) | (df[col] > upper_bound)]\n",
    "    return len(outliers)\n",
    "\n",
    "\n",
    "for col in integer_columns:\n",
    "    num_outliers = count_outliers(df, col)\n",
    "    print(f\"Column '{col}': {num_outliers} outliers\")"
   ]
  },
  {
   "cell_type": "code",
   "execution_count": 6,
   "metadata": {},
   "outputs": [],
   "source": [
    "def remove_outliers(df, col):\n",
    "    mean = df[col].mean()\n",
    "    std = df[col].std()\n",
    "    df = df[(df[col] >= mean - 3 * std) & (df[col] <= mean + 3 * std)]\n",
    "    return df\n",
    "\n",
    "for col in integer_columns:\n",
    "    df = remove_outliers(df, col)\n",
    "\n",
    "df.to_csv('cleaned_data_no_outliers.csv', index=False)"
   ]
  }
 ],
 "metadata": {
  "kernelspec": {
   "display_name": "Python 3",
   "language": "python",
   "name": "python3"
  },
  "language_info": {
   "codemirror_mode": {
    "name": "ipython",
    "version": 3
   },
   "file_extension": ".py",
   "mimetype": "text/x-python",
   "name": "python",
   "nbconvert_exporter": "python",
   "pygments_lexer": "ipython3",
   "version": "3.11.7"
  }
 },
 "nbformat": 4,
 "nbformat_minor": 2
}
